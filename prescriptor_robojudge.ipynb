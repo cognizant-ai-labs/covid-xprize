{
 "cells": [
  {
   "cell_type": "code",
   "execution_count": null,
   "metadata": {
    "scrolled": false
   },
   "outputs": [],
   "source": [
    "# Copyright 2020 (c) Cognizant Digital Business, Evolutionary AI. All rights reserved. Issued under the Apache 2.0 License."
   ]
  },
  {
   "cell_type": "code",
   "execution_count": null,
   "metadata": {
    "scrolled": false
   },
   "outputs": [],
   "source": [
    "#\n",
    "# Notebook for evaluating prescriptions using lstm predictor.\n",
    "#\n",
    "# The main metric computed is based on how many other prescriptions\n",
    "# each submission dominates on the pareto front of stringency vs cases.\n",
    "#"
   ]
  },
  {
   "cell_type": "code",
   "execution_count": null,
   "metadata": {
    "scrolled": false
   },
   "outputs": [],
   "source": [
    "import matplotlib.pyplot as plt\n",
    "%matplotlib inline\n",
    "import numpy as np\n",
    "import pandas as pd"
   ]
  },
  {
   "cell_type": "code",
   "execution_count": null,
   "metadata": {
    "scrolled": false
   },
   "outputs": [],
   "source": [
    "# Can set these longer for better evaluation. Will increase eval time\n",
    "START_DATE = '2020-08-01'\n",
    "END_DATE = '2020-08-05'"
   ]
  },
  {
   "cell_type": "code",
   "execution_count": null,
   "metadata": {
    "scrolled": false
   },
   "outputs": [],
   "source": [
    "NPI_COLS = ['C1_School closing',\n",
    "            'C2_Workplace closing',\n",
    "            'C3_Cancel public events',\n",
    "            'C4_Restrictions on gatherings',\n",
    "            'C5_Close public transport',\n",
    "            'C6_Stay at home requirements',\n",
    "            'C7_Restrictions on internal movement',\n",
    "            'C8_International travel controls',\n",
    "            'H1_Public information campaigns',\n",
    "            'H2_Testing policy',\n",
    "            'H3_Contact tracing']"
   ]
  },
  {
   "cell_type": "code",
   "execution_count": null,
   "metadata": {
    "scrolled": false
   },
   "outputs": [],
   "source": [
    "prescription_files = {\n",
    "    'NeatExample': 'examples/prescriptors/neat/test_prescriptions/pres.csv',\n",
    "    'Random1': 'examples/prescriptors/random/test/random_presc_1.csv',\n",
    "    'Random2': 'examples/prescriptors/random/test/random_presc_2.csv',\n",
    "    'Random3': 'examples/prescriptors/random/test/random_presc_3.csv',\n",
    "}"
   ]
  },
  {
   "cell_type": "code",
   "execution_count": null,
   "metadata": {
    "scrolled": false
   },
   "outputs": [],
   "source": [
    "def generate_cases_and_stringency_for_prescriptions(prescription_file):\n",
    "    \n",
    "    # Load prescriptions\n",
    "    pres_df = pd.read_csv(prescription_file)\n",
    "    \n",
    "    # Generate predictions for all prescriptions\n",
    "    pred_dfs = []\n",
    "    for idx in pres_df['PrescriptionIndex'].unique():\n",
    "        idx_df = pres_df[pres_df['PrescriptionIndex'] == idx]\n",
    "        idx_df = idx_df.drop(columns='PrescriptionIndex') # Predictor doesn't need this\n",
    "        ip_file_path = 'prescription_{}.csv'.format(idx)\n",
    "        idx_df.to_csv(ip_file_path)\n",
    "        preds_file_path = 'test/predictions_{}.csv'.format(idx)\n",
    "        \n",
    "        # Run predictor\n",
    "        !python examples/predictors/lstm/predict.py -s $START_DATE -e $END_DATE -ip $ip_file_path -o $preds_file_path\n",
    "        \n",
    "        # Collect predictions\n",
    "        pred_df = pd.read_csv(preds_file_path,                                                               \n",
    "                              parse_dates=['Date'],\n",
    "                              encoding=\"ISO-8859-1\",\n",
    "                              error_bad_lines=True)\n",
    "        pred_df['PrescriptionIndex'] = idx\n",
    "        pred_dfs.append(pred_df)\n",
    "    pred_df = pd.concat(pred_dfs)\n",
    "    \n",
    "    # Aggregate cases by prescription index and geo\n",
    "    agg_pred_df = pred_df.groupby(['CountryName', \n",
    "                                   'RegionName', \n",
    "                                   'PrescriptionIndex'], dropna=False).mean().reset_index()\n",
    "\n",
    "    # Aggregate stringency across npis\n",
    "    pres_df['Stringency'] = pres_df[NPI_COLS].sum(axis=1)\n",
    "    \n",
    "    # Aggregate stringency by prescription index and geo\n",
    "    agg_pres_df = pres_df.groupby(['CountryName', \n",
    "                                   'RegionName', \n",
    "                                   'PrescriptionIndex'], dropna=False).mean().reset_index()\n",
    "    \n",
    "    # Combine stringency and cases into a single df\n",
    "    df = agg_pres_df.merge(agg_pred_df, how='outer', on=['CountryName', \n",
    "                                                         'RegionName', \n",
    "                                                         'PrescriptionIndex'])\n",
    "\n",
    "    # Only keep columns of interest\n",
    "    df = df[['CountryName', \n",
    "             'RegionName', \n",
    "             'PrescriptionIndex', \n",
    "             'PredictedDailyNewCases', \n",
    "             'Stringency']]\n",
    "    \n",
    "    return df"
   ]
  },
  {
   "cell_type": "code",
   "execution_count": null,
   "metadata": {
    "scrolled": false
   },
   "outputs": [],
   "source": [
    "# Collect case and stringency data for all prescriptors\n",
    "dfs = []\n",
    "for prescriptor_name, prescription_file in sorted(prescription_files.items()):\n",
    "    print(\"Generating predictions for\", prescriptor_name)\n",
    "    df = generate_cases_and_stringency_for_prescriptions(prescription_file)\n",
    "    df['PrescriptorName'] = prescriptor_name\n",
    "    dfs.append(df)\n",
    "df = pd.concat(dfs)"
   ]
  },
  {
   "cell_type": "code",
   "execution_count": null,
   "metadata": {
    "scrolled": false
   },
   "outputs": [],
   "source": [
    "df[df['CountryName'] == 'Afghanistan']"
   ]
  },
  {
   "cell_type": "code",
   "execution_count": null,
   "metadata": {
    "scrolled": false
   },
   "outputs": [],
   "source": [
    "# Compute domination relationship for each pair of prescriptors for each geo\n",
    "def compute_domination_df(df):\n",
    "    country_names = []\n",
    "    region_names = []\n",
    "    dominating_names = []\n",
    "    dominated_names = []\n",
    "    dominated_idxs = []\n",
    "    prescriptor_names = sorted(df['PrescriptorName'].unique())\n",
    "    prescription_idxs = sorted(df['PrescriptionIndex'].unique())\n",
    "    for country_name in df['CountryName'].unique():\n",
    "        cdf = df[df['CountryName'] == country_name]\n",
    "        for region_name in cdf['RegionName'].unique():\n",
    "            print('Computing domination for', country_name, region_name)\n",
    "            if pd.isna(region_name):\n",
    "                rdf = cdf[cdf['RegionName'].isna()]\n",
    "            else:\n",
    "                rdf = cdf[cdf['RegionName'] == region_name]\n",
    "            for name1 in prescriptor_names:\n",
    "                dominated_prescriptions = set() # To collect all dominated prescriptions\n",
    "                                                # this is a set, so each dominated\n",
    "                                                # prescription is only counted once per\n",
    "                                                # submission.\n",
    "                name1_df = rdf[rdf['PrescriptorName'] == name1]\n",
    "                name1_idxs = sorted(name1_df['PrescriptionIndex'].unique())\n",
    "                for i in name1_idxs:\n",
    "                    idf = name1_df[name1_df['PrescriptionIndex'] == i]\n",
    "                    i_cases = idf['PredictedDailyNewCases'].values[0]\n",
    "                    i_stringency = idf['Stringency'].values[0]\n",
    "                    \n",
    "                    # Compare name1 to all other prescriptions\n",
    "                    for name2 in prescriptor_names:\n",
    "                        if name1 != name2:\n",
    "                            name2_df = rdf[rdf['PrescriptorName'] == name1]\n",
    "                            name2_idxs = sorted(name2_df['PrescriptionIndex'].unique())  \n",
    "                            for j in name2_idxs:\n",
    "                                jdf = name2_df[name2_df['PrescriptionIndex'] == j]\n",
    "                                j_cases = jdf['PredictedDailyNewCases'].values[0]\n",
    "                                j_stringency = jdf['Stringency'].values[0]\n",
    "                                if (i_cases < j_cases) and (i_stringency < j_stringency):\n",
    "                                    dominated_prescriptions.add((name2, j))\n",
    "                for name2, j in dominated_prescriptions:\n",
    "                    country_names.append(country_name)\n",
    "                    region_names.append(region_name)\n",
    "                    dominating_names.append(name1)\n",
    "                    dominated_names.append(name2)\n",
    "                    dominated_idxs.append(j)\n",
    "    ddf = pd.DataFrame({\n",
    "        'CountryName': country_names,\n",
    "        'RegionName': region_names,\n",
    "        'DominatingName': dominating_names,\n",
    "        'DominatedName': dominated_names,\n",
    "        'DominatedIndex': dominated_idxs})\n",
    "    return ddf"
   ]
  },
  {
   "cell_type": "code",
   "execution_count": null,
   "metadata": {
    "scrolled": true
   },
   "outputs": [],
   "source": [
    "ddf = compute_domination_df(df)"
   ]
  },
  {
   "cell_type": "code",
   "execution_count": null,
   "metadata": {
    "scrolled": false
   },
   "outputs": [],
   "source": [
    "# Get number of dominated prescriptions for each submission.\n",
    "ddf.groupby('DominatingName').count().sort_values('DominatedIndex', ascending=False)['DominatedIndex']"
   ]
  },
  {
   "cell_type": "code",
   "execution_count": null,
   "metadata": {
    "scrolled": false
   },
   "outputs": [],
   "source": [
    "# Plot overall stringency and cases of each prescription\n",
    "plt.figure(figsize=(10,8))\n",
    "for prescriptor_name in prescription_files:\n",
    "    pdf = df[df['PrescriptorName'] == prescriptor_name]\n",
    "    overall_pdf = pdf.groupby('PrescriptionIndex').mean().reset_index()\n",
    "    plt.scatter(overall_pdf['Stringency'],\n",
    "                overall_pdf['PredictedDailyNewCases'], \n",
    "                label=prescriptor_name)\n",
    "plt.xlabel('Mean stringency')\n",
    "plt.ylabel('Mean cases per day per geo')\n",
    "plt.legend()\n",
    "plt.show()"
   ]
  },
  {
   "cell_type": "code",
   "execution_count": null,
   "metadata": {
    "scrolled": false
   },
   "outputs": [],
   "source": [
    "# Plot stacked line chart of npis over time for a prescription for a particular geo\n",
    "\n",
    "#submission_file = 'examples/prescriptors/neat/test_prescriptions/pres.csv'\n",
    "submission_file = 'examples/prescriptors/random/test/random_presc_1.csv'\n",
    "\n",
    "prescription_index = 2\n",
    "country_name = 'United States'\n",
    "region_name = None\n",
    "\n",
    "pdf = pd.read_csv(submission_file)\n",
    "gdf = pdf[(pdf['PrescriptionIndex'] == prescription_index) &\n",
    "          (pdf['CountryName'] == country_name) &\n",
    "          (pdf['RegionName'].isna() if region_name is None else (pdf['RegionName'] == 'region_name'))]\n",
    "gdf.plot.area(x='Date', y=NPI_COLS, figsize=(10,8), ylabel='Stringency')"
   ]
  }
 ],
 "metadata": {
  "kernelspec": {
   "display_name": "Python 3",
   "language": "python",
   "name": "python3"
  },
  "language_info": {
   "codemirror_mode": {
    "name": "ipython",
    "version": 3
   },
   "file_extension": ".py",
   "mimetype": "text/x-python",
   "name": "python",
   "nbconvert_exporter": "python",
   "pygments_lexer": "ipython3",
   "version": "3.8.5"
  }
 },
 "nbformat": 4,
 "nbformat_minor": 4
}
