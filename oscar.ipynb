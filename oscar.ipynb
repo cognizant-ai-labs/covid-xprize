{
 "cells": [
  {
   "cell_type": "code",
   "execution_count": null,
   "metadata": {},
   "outputs": [],
   "source": [
    "from collections import defaultdict\n",
    "import numpy as np\n",
    "import pandas as pd\n",
    "from sklearn import metrics\n",
    "from tqdm import tqdm\n",
    "from EvoMSA import base\n",
    "# NixtamalAI's packages\n",
    "from covid_xprize.nixtamalai.helpers import ID_COLS, DEATHS_COL\n",
    "from covid_xprize.nixtamalai import helpers\n",
    "from covid_xprize.nixtamalai import models\n",
    "from microtc.utils import save_model\n",
    "\n",
    "# Getting de data\n",
    "data = helpers.preprocess_full()  "
   ]
  },
  {
   "cell_type": "code",
   "execution_count": null,
   "metadata": {},
   "outputs": [],
   "source": [
    "population = {k:v for k, v in data.groupby(\"GeoID\").Population.last().items()}\n",
    "\n",
    "def predict(data, trans, model, start_date=\"2020-11-13\", end_date=\"2020-12-05\"):\n",
    "    output = defaultdict(list)\n",
    "    for X in trans.transform(data, start=start_date, end=end_date):\n",
    "        hy = trans.update_prediction(model.predict(X))\n",
    "        key = X.iloc[0][\"GeoID\"]\n",
    "        output[key].append(hy)\n",
    "    geo_pred_dfs = list()\n",
    "    start_date = pd.to_datetime(start_date, format='%Y-%m-%d')\n",
    "    end_date = pd.to_datetime(end_date, format='%Y-%m-%d')    \n",
    "    data = data[(data.Date >= start_date) & (data.Date <= end_date)].copy()\n",
    "    for key, value in output.items():\n",
    "        geo_pred_df = data.loc[data.GeoID == key, ID_COLS].copy()\n",
    "        # print(len(value), geo_pred_df.shape, key)\n",
    "        geo_pred_df['PredictedDailyNewCases'] = value[-geo_pred_df.shape[0]:]\n",
    "        geo_pred_dfs.append(geo_pred_df)\n",
    "    pred_df = pd.concat(geo_pred_dfs)\n",
    "    return pred_df\n",
    "\n",
    "def compute_y_hy(output):\n",
    "    res = pd.merge(data, output, how=\"inner\")\n",
    "    _ = [((100000 * value.NewCasesHampel /  population[key]).rolling(7, min_periods=1).mean().to_numpy(),\n",
    "          (100000 * value.PredictedDailyNewCases /  population[key]).rolling(7, min_periods=1).mean().to_numpy())\n",
    "         for key, value in res.groupby(\"GeoID\")]\n",
    "\n",
    "    y = np.concatenate([x[0] for x in _])\n",
    "    hy = np.concatenate([x[1] for x in _])\n",
    "    return y, hy\n",
    "\n",
    "def performance(output):\n",
    "    res = pd.merge(data, output, how=\"inner\")\n",
    "    y = res.NewCasesHampel.rolling(7, min_periods=1).mean()\n",
    "    hy = res.PredictedDailyNewCases.rolling(7, min_periods=1).mean()\n",
    "    mae = metrics.mean_absolute_error(y, hy)\n",
    "\n",
    "    _ = [((100000 * value.NewCasesHampel /  population[key]).rolling(7, min_periods=1).mean().to_numpy(),\n",
    "          (100000 * value.PredictedDailyNewCases /  population[key]).rolling(7, min_periods=1).mean().to_numpy())\n",
    "         for key, value in res.groupby(\"GeoID\")]\n",
    "\n",
    "    y = np.concatenate([x[0] for x in _])\n",
    "    hy = np.concatenate([x[1] for x in _])\n",
    "    return [mae, metrics.mean_absolute_error(y, hy)]"
   ]
  },
  {
   "cell_type": "code",
   "execution_count": null,
   "metadata": {},
   "outputs": [],
   "source": [
    "transN = models.FeaturesN(lags=16).fit(data)\n",
    "X, y = transN.training_set()\n",
    "evo = base.EvoMSA(TR=False, stacked_method=models.AR,\n",
    "                  classifier=False, n_jobs=1, tm_n_jobs=1,\n",
    "                  models=[[models.Oscar, models.ARG],\n",
    "                          [models.Oscar, models.LarsG],\n",
    "                          [models.Oscar, models.LassoG]]).fit(X, y)\n",
    "# save_model([transN, evo], \"evomsaN.model\")                          \n",
    "_ = predict(data, transN, evo)\n",
    "# y1, hy = compute_y_hy(_)\n",
    "# evomsa = np.fabs(y1 - hy)\n",
    "performance(_)   "
   ]
  }
 ],
 "metadata": {
  "kernelspec": {
   "display_name": "Python 3",
   "language": "python",
   "name": "python3"
  },
  "language_info": {
   "codemirror_mode": {
    "name": "ipython",
    "version": 3
   },
   "file_extension": ".py",
   "mimetype": "text/x-python",
   "name": "python",
   "nbconvert_exporter": "python",
   "pygments_lexer": "ipython3",
   "version": "3.8.3-final"
  }
 },
 "nbformat": 4,
 "nbformat_minor": 2
}
