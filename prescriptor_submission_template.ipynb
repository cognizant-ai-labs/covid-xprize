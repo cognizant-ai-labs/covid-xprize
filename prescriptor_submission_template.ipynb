{
 "cells": [
  {
   "cell_type": "raw",
   "metadata": {},
   "source": [
    "# Copyright 2020 (c) Cognizant Digital Business, Evolutionary AI. All rights reserved. Issued under the Apache 2.0 License."
   ]
  },
  {
   "cell_type": "markdown",
   "metadata": {},
   "source": [
    "# Prescriptor submission\n"
   ]
  },
  {
   "cell_type": "code",
   "execution_count": null,
   "metadata": {},
   "outputs": [],
   "source": [
    "import pandas as pd"
   ]
  },
  {
   "cell_type": "markdown",
   "metadata": {},
   "source": [
    "## Inputs"
   ]
  },
  {
   "cell_type": "markdown",
   "metadata": {},
   "source": [
    "### Past interventions\n",
    "Like for predict.py, prescribe.py expects the list of past interventions for a list of countries. For example:"
   ]
  },
  {
   "cell_type": "code",
   "execution_count": null,
   "metadata": {},
   "outputs": [],
   "source": [
    "EXAMPLE_IP_FILE = \"covid_xprize/validation/data/2020-09-30_historical_ip.csv\"\n",
    "ip_df = pd.read_csv(EXAMPLE_IP_FILE,\n",
    "                    parse_dates=['Date'],\n",
    "                    dtype={\"RegionName\": str},\n",
    "                    encoding=\"ISO-8859-1\")\n",
    "ip_df.tail()"
   ]
  },
  {
   "cell_type": "markdown",
   "metadata": {},
   "source": [
    "### Intervention costs\n",
    "Intervention plan costs can differ across regions. For example, closing public transportation may be\n",
    "much costlier in London than it is in Los Angeles. Such preferences are expressed as weights\n",
    "associated with each intervention plan dimension, given to the prescriptor as input for each region.\n",
    "\n",
    "For example:"
   ]
  },
  {
   "cell_type": "code",
   "execution_count": null,
   "metadata": {},
   "outputs": [],
   "source": [
    "EXAMPLE_COSTS_FILE = \"covid_xprize/validation/data/uniform_random_costs.csv\"\n",
    "costs_df = pd.read_csv(EXAMPLE_COSTS_FILE,\n",
    "                       dtype={\"RegionName\": str},\n",
    "                       encoding=\"ISO-8859-1\")\n",
    "costs_df.head()"
   ]
  },
  {
   "cell_type": "markdown",
   "metadata": {},
   "source": [
    "## Expected output\n",
    "A call to `prescribe.py` should produce this kind of file:"
   ]
  },
  {
   "cell_type": "code",
   "execution_count": null,
   "metadata": {},
   "outputs": [],
   "source": [
    "EXAMPLE_OUTPUT_FILE = \"2020-08-01_2020-08-04_prescriptions_example.csv\"\n",
    "prediction_output_df = pd.read_csv(EXAMPLE_OUTPUT_FILE,\n",
    "                                   parse_dates=['Date'],\n",
    "                                   encoding=\"ISO-8859-1\")\n",
    "prediction_output_df.head()"
   ]
  },
  {
   "cell_type": "markdown",
   "metadata": {},
   "source": [
    "# Prescribe"
   ]
  },
  {
   "cell_type": "code",
   "execution_count": null,
   "metadata": {},
   "outputs": [],
   "source": [
    "start_date = \"2020-08-01\"\n",
    "end_date = \"2020-08-04\"\n",
    "ip_file = \"covid_xprize/validation/data/2020-09-30_historical_ip.csv\"\n",
    "costs_file = \"covid_xprize/validation/data/uniform_random_costs.csv\"\n",
    "output_file = \"prescriptions/2020-08-01_2020-08-04.csv\""
   ]
  },
  {
   "cell_type": "code",
   "execution_count": null,
   "metadata": {},
   "outputs": [],
   "source": [
    "!python prescribe.py -s {start_date} -e {end_date} -ip {ip_file} -c {costs_file} -o {output_file}"
   ]
  },
  {
   "cell_type": "code",
   "execution_count": null,
   "metadata": {},
   "outputs": [],
   "source": [
    "!head {output_file}"
   ]
  },
  {
   "cell_type": "markdown",
   "metadata": {},
   "source": [
    "# Validate"
   ]
  },
  {
   "cell_type": "code",
   "execution_count": null,
   "metadata": {},
   "outputs": [],
   "source": [
    "from covid_xprize.validation.prescriptor_validation import validate_submission"
   ]
  },
  {
   "cell_type": "code",
   "execution_count": null,
   "metadata": {},
   "outputs": [],
   "source": [
    "errors = validate_submission(start_date, end_date, ip_file, output_file)\n",
    "if errors:\n",
    "    for error in errors:\n",
    "        print(error)\n",
    "else:\n",
    "    print(\"All good!\")"
   ]
  },
  {
   "cell_type": "markdown",
   "metadata": {},
   "source": [
    "# Evaluate"
   ]
  },
  {
   "cell_type": "markdown",
   "metadata": {},
   "source": [
    "## Load generated prescriptions"
   ]
  },
  {
   "cell_type": "code",
   "execution_count": null,
   "metadata": {},
   "outputs": [],
   "source": [
    "presc_df = pd.read_csv(output_file)"
   ]
  },
  {
   "cell_type": "code",
   "execution_count": null,
   "metadata": {},
   "outputs": [],
   "source": [
    "prescription_indexes = list(presc_df.PrescriptionIndex.unique())\n",
    "print(f\"Loaded {len(prescription_indexes)} prescriptions:\")\n",
    "prescription_indexes"
   ]
  },
  {
   "cell_type": "code",
   "execution_count": null,
   "metadata": {},
   "outputs": [],
   "source": [
    "# Look at the first prescription plan\n",
    "idx = 0\n",
    "idx_df = presc_df[presc_df['PrescriptionIndex'] == idx]\n",
    "idx_df = idx_df.drop(columns='PrescriptionIndex') # Predictor doesn't need this\n",
    "idx_df.head()"
   ]
  },
  {
   "cell_type": "code",
   "execution_count": null,
   "metadata": {},
   "outputs": [],
   "source": [
    "# Save it to a file\n",
    "presc_x_file = \"prescriptions/2020-08-01_2020-08-04_0.csv\"\n",
    "idx_df.to_csv(presc_x_file)"
   ]
  },
  {
   "cell_type": "markdown",
   "metadata": {},
   "source": [
    "## Compute prescription plan number of cases\n",
    "Run the prescription plan through the predictor to get its predicted number of daily cases"
   ]
  },
  {
   "cell_type": "code",
   "execution_count": null,
   "metadata": {},
   "outputs": [],
   "source": [
    "# Run the standard predictor\n",
    "pred_x_file = \"predictions/2020-08-01_2020-08-04_0.csv\"\n",
    "!python covid_xprize/standard_predictor/predict.py -s {start_date} -e {end_date} -ip {presc_x_file} -o {pred_x_file}\n",
    "\n"
   ]
  },
  {
   "cell_type": "code",
   "execution_count": null,
   "metadata": {},
   "outputs": [],
   "source": [
    "# Load the predictions\n",
    "preds_x_df = pd.read_csv(pred_x_file)\n",
    "preds_x_df.head()"
   ]
  },
  {
   "cell_type": "markdown",
   "metadata": {},
   "source": [
    "## Compute prescription plan stringency"
   ]
  },
  {
   "cell_type": "code",
   "execution_count": null,
   "metadata": {},
   "outputs": [],
   "source": [
    "# Load IP cost weights\n",
    "cost_df = pd.read_csv(costs_file)\n",
    "cost_df.head()"
   ]
  },
  {
   "cell_type": "code",
   "execution_count": null,
   "metadata": {},
   "outputs": [],
   "source": [
    "NPI_COLS = ['C1_School closing',\n",
    "            'C2_Workplace closing',\n",
    "            'C3_Cancel public events',\n",
    "            'C4_Restrictions on gatherings',\n",
    "            'C5_Close public transport',\n",
    "            'C6_Stay at home requirements',\n",
    "            'C7_Restrictions on internal movement',\n",
    "            'C8_International travel controls',\n",
    "            'H1_Public information campaigns',\n",
    "            'H2_Testing policy',\n",
    "            'H3_Contact tracing',\n",
    "            'H6_Facial Coverings']"
   ]
  },
  {
   "cell_type": "code",
   "execution_count": null,
   "metadata": {},
   "outputs": [],
   "source": [
    "def weight_prescriptions_by_cost(pres_df, cost_df):\n",
    "    \"\"\"\n",
    "    Weight prescriptions by their costs.\n",
    "    \"\"\"\n",
    "    weighted_df = pres_df.merge(cost_df, how='outer', on=['CountryName', 'RegionName'], suffixes=('_pres', '_cost'))\n",
    "    for npi_col in NPI_COLS:\n",
    "        weighted_df[npi_col] = weighted_df[npi_col + '_pres'] * weighted_df[npi_col + '_cost']\n",
    "    return weighted_df"
   ]
  },
  {
   "cell_type": "code",
   "execution_count": null,
   "metadata": {},
   "outputs": [],
   "source": [
    "# Apply weights to prescriptions\n",
    "weighted_x_df = weight_prescriptions_by_cost(idx_df, cost_df)\n",
    "weighted_x_df.head()"
   ]
  },
  {
   "cell_type": "code",
   "execution_count": null,
   "metadata": {},
   "outputs": [],
   "source": [
    "weighted_x_df['Stringency'] = weighted_x_df[NPI_COLS].sum(axis=1)"
   ]
  },
  {
   "cell_type": "code",
   "execution_count": null,
   "metadata": {},
   "outputs": [],
   "source": [
    "weighted_x_df.head()"
   ]
  },
  {
   "cell_type": "code",
   "execution_count": null,
   "metadata": {},
   "outputs": [],
   "source": [
    "mean_new_cases = preds_x_df.PredictedDailyNewCases.mean()\n",
    "mean_stringency = weighted_x_df.Stringency.mean()\n",
    "print(f\"Mean predicted daily new cases: {mean_new_cases}\")\n",
    "print(f\"Mean stringency: {mean_stringency}\")"
   ]
  },
  {
   "cell_type": "markdown",
   "metadata": {},
   "source": [
    "# Robojudge\n",
    "Time to compare these prescriptions to others: have a look at the [prescriptor robojudge notebook](prescriptor_robojudge.ipynb)"
   ]
  },
  {
   "cell_type": "code",
   "execution_count": null,
   "metadata": {},
   "outputs": [],
   "source": []
  }
 ],
 "metadata": {
  "kernelspec": {
   "display_name": "Python 3",
   "language": "python",
   "name": "python3"
  },
  "language_info": {
   "codemirror_mode": {
    "name": "ipython",
    "version": 3
   },
   "file_extension": ".py",
   "mimetype": "text/x-python",
   "name": "python",
   "nbconvert_exporter": "python",
   "pygments_lexer": "ipython3",
   "version": "3.8.5"
  }
 },
 "nbformat": 4,
 "nbformat_minor": 4
}
