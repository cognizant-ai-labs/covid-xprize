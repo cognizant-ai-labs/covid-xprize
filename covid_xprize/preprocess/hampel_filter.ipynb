{
 "cells": [
  {
   "cell_type": "markdown",
   "metadata": {},
   "source": [
    "# Outlier detection\n",
    "\n",
    "The timeseries for covid cses may contain outlier observations, we need to find and correct those. Hampel filters allow us to do both. The idea is simple: pass a moving window throug the series, calculate aerage and standard deviation and then use Pearson's criteria (difference greater than 3 std) to detect outliers. Once detected the outlier value can be substituted by the rolling average or something similar"
   ]
  },
  {
   "cell_type": "code",
   "execution_count": null,
   "metadata": {},
   "outputs": [],
   "source": [
    "%load_ext autoreload\n",
    "%autoreload 2"
   ]
  },
  {
   "cell_type": "code",
   "execution_count": null,
   "metadata": {},
   "outputs": [],
   "source": [
    "import numpy as np\n",
    "import pandas as pd\n",
    "import os"
   ]
  },
  {
   "cell_type": "code",
   "execution_count": null,
   "metadata": {},
   "outputs": [],
   "source": [
    "def hampel(vals_orig, k=7, threshold=3):\n",
    "    \"\"\"Detect and filter outliers in a time series.\n",
    "    \n",
    "    Parameters\n",
    "    vals_orig: pandas series of values from which to remove outliers\n",
    "    k: size of window (including the sample; 7 is equal to 3 on either side of value)\n",
    "    threshold: number of standard deviations to filter outliers\n",
    "    \n",
    "    Returns\n",
    "    \n",
    "    \"\"\"\n",
    "    \n",
    "    #Make copy so original not edited\n",
    "    vals = vals_orig.copy()\n",
    "    \n",
    "    #Hampel Filter\n",
    "    L = 1.4826 # Constant factor to estimate STD from MAD assuming normality\n",
    "    rolling_median = vals.rolling(window=k, center=True).median()\n",
    "    MAD = lambda x: np.median(np.abs(x - np.median(x)))\n",
    "    rolling_MAD = vals.rolling(window=k, center=True).apply(MAD)\n",
    "    threshold = threshold * L * rolling_MAD\n",
    "    difference = np.abs(vals - rolling_median)\n",
    "    \n",
    "    '''\n",
    "    Perhaps a condition should be added here in the case that the threshold value\n",
    "    is 0.0; maybe do not mark as outlier. MAD may be 0.0 without the original values\n",
    "    being equal. See differences between MAD vs SDV.\n",
    "    '''\n",
    "    \n",
    "    outlier_idx = difference > threshold\n",
    "    vals[outlier_idx] = rolling_median[outlier_idx] \n",
    "    return(vals)"
   ]
  },
  {
   "cell_type": "markdown",
   "metadata": {},
   "source": [
    "## Test on single time series\n",
    "\n",
    "To test out our hampel filter we're going to use it on Mexico's time series. Firts we need to apply some standard preprocessing steps to interpolate missing values"
   ]
  },
  {
   "cell_type": "code",
   "execution_count": null,
   "metadata": {},
   "outputs": [],
   "source": [
    "df = pd.read_csv(\"../data_sources/OxCGRT_latest.csv\")\n",
    "# get a single country\n",
    "df = df[df['CountryCode'] == 'MEX']\n",
    "# Add new cases column\n",
    "df['NewCases'] = df.ConfirmedCases.diff().fillna(0)\n",
    "# Fill any missing case values by interpolation and setting NaNs to 0\n",
    "df.NewCases = df.NewCases.interpolate().fillna(0)\n",
    "df['NewCases'].plot()"
   ]
  },
  {
   "cell_type": "markdown",
   "metadata": {},
   "source": [
    "Obviously there are some outlier observations, lets see what happens if we apply hampel filters of different lenghths"
   ]
  },
  {
   "cell_type": "code",
   "execution_count": null,
   "metadata": {},
   "outputs": [],
   "source": [
    "filter_7 =  hampel(df.NewCases, k=7, threshold=3)\n",
    "filter_11 =  hampel(df.NewCases, k=11, threshold=3)\n",
    "filter_15 =  hampel(df.NewCases, k=15, threshold=3)\n",
    "comparisson = pd.concat([filter_7, filter_11, filter_15], axis=1)\n",
    "comparisson.columns = ['7-days', '11-days', '15-days']\n",
    "comparisson.plot(alpha=0.6)"
   ]
  },
  {
   "cell_type": "markdown",
   "metadata": {},
   "source": [
    "So we can filter outliers in this timeseries with all time windows. Maybe using the smaller one introduces less errors, I'm not sure."
   ]
  },
  {
   "cell_type": "markdown",
   "metadata": {},
   "source": [
    "## Apply to the whole series\n",
    "\n",
    "Now lets apply the Hampel filter to the whole series with every country and region"
   ]
  },
  {
   "cell_type": "code",
   "execution_count": null,
   "metadata": {},
   "outputs": [],
   "source": [
    "df = pd.read_csv(\"../data_sources/OxCGRT_latest.csv\", \n",
    "                 parse_dates=['Date'],\n",
    "                 encoding=\"ISO-8859-1\",\n",
    "                 dtype={\"RegionName\": str,\n",
    "                        \"RegionCode\": str},\n",
    "                 error_bad_lines=False)\n",
    "df['GeoID'] = df['CountryName'] + '__' + df['RegionName'].astype(str)\n",
    "df['NewCases'] = df.groupby('GeoID').ConfirmedCases.diff().fillna(0)\n",
    "df.update(df.groupby('GeoID').NewCases.apply(\n",
    "    lambda group: group.interpolate()).fillna(0))\n",
    "\n",
    "filtered = df.groupby('CountryCode').apply(lambda group: hampel(group.NewCases))\n",
    "filtered = filtered.reset_index()[['NewCases']]\n",
    "filtered.columns = ['NewCasesHampel']\n",
    "df = df.join(filtered)\n",
    "df"
   ]
  },
  {
   "cell_type": "markdown",
   "metadata": {},
   "source": [
    "Lets check one country"
   ]
  },
  {
   "cell_type": "code",
   "execution_count": null,
   "metadata": {},
   "outputs": [],
   "source": [
    "df[df.CountryCode == 'MEX'][['NewCases', 'NewCasesHampel']].plot()"
   ]
  },
  {
   "cell_type": "code",
   "execution_count": null,
   "metadata": {},
   "outputs": [],
   "source": [
    "df[df.CountryCode == 'ESP'][['NewCases', 'NewCasesHampel']].plot()"
   ]
  },
  {
   "cell_type": "code",
   "execution_count": null,
   "metadata": {},
   "outputs": [],
   "source": []
  }
 ],
 "metadata": {
  "kernelspec": {
   "display_name": "Python 3",
   "language": "python",
   "name": "python3"
  },
  "language_info": {
   "codemirror_mode": {
    "name": "ipython",
    "version": 3
   },
   "file_extension": ".py",
   "mimetype": "text/x-python",
   "name": "python",
   "nbconvert_exporter": "python",
   "pygments_lexer": "ipython3",
   "version": "3.7.8"
  }
 },
 "nbformat": 4,
 "nbformat_minor": 4
}
