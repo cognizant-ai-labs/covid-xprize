{
 "cells": [
  {
   "cell_type": "code",
   "execution_count": null,
   "metadata": {},
   "outputs": [],
   "source": [
    "%load_ext autoreload\n",
    "%autoreload 2"
   ]
  },
  {
   "cell_type": "code",
   "execution_count": null,
   "metadata": {},
   "outputs": [],
   "source": [
    "import pandas as pd\n",
    "import os\n",
    "import sys\n",
    "module_path = os.path.abspath(os.path.join('..'))\n",
    "if module_path not in sys.path:\n",
    "    sys.path.append(module_path)\n",
    "from nixtamalai.helpers import update_OxCGRT_tests, hampel"
   ]
  },
  {
   "cell_type": "markdown",
   "metadata": {},
   "source": [
    "# Preprocess function\n",
    "\n",
    "Pack the preprocess workflow into a single function. The usual preprocess is:\n",
    "\n",
    "- Update data and merge with tests\n",
    "- Add CountryID\n",
    "- Add NewCases \n",
    "- Handle missing data in NewCases\n",
    "- Handle missing data in NPIs\n",
    "- Handle missing data in Tests\n",
    "- Fix outliers\n",
    "- Return only relevant columns"
   ]
  },
  {
   "cell_type": "code",
   "execution_count": null,
   "metadata": {},
   "outputs": [],
   "source": [
    "# get updated data merged with tests\n",
    "df = update_OxCGRT_tests()\n",
    "# Add GeoID\n",
    "df['GeoID'] = df['CountryName'] + '__' + df['RegionName'].astype(str)\n",
    "# Add NewCases\n",
    "df['NewCases'] = df.groupby('GeoID').ConfirmedCases.diff().fillna(0)\n",
    "# Missing data in NewCases\n",
    "df.update(df.groupby('GeoID').NewCases.apply(\n",
    "    lambda group: group.interpolate()).fillna(0))\n",
    "# Missing data in Tests\n",
    "tests_columns = [c for c in df.columns if c.startswith('tests')]\n",
    "for column in tests_columns:\n",
    "    df.update(df.groupby('GeoID')[column].apply(\n",
    "    lambda group: group.interpolate()).fillna(0))\n",
    "# Missing data in NPIs assuming they are the same as previous day\n",
    "npi_cols = ['C1_School closing',\n",
    "            'C2_Workplace closing',\n",
    "            'C3_Cancel public events',\n",
    "            'C4_Restrictions on gatherings',\n",
    "            'C5_Close public transport',\n",
    "            'C6_Stay at home requirements',\n",
    "            'C7_Restrictions on internal movement',\n",
    "            'C8_International travel controls',\n",
    "            'H1_Public information campaigns',\n",
    "            'H2_Testing policy',\n",
    "            'H3_Contact tracing',\n",
    "            'H6_Facial Coverings']\n",
    "for npi_col in npi_cols:\n",
    "    df.update(df.groupby('GeoID')[npi_col].ffill().fillna(0))\n",
    "# Hampel filter (default values)\n",
    "filtered = df.groupby('CountryCode').apply(lambda group: hampel(group.NewCases))\n",
    "filtered = filtered.reset_index()[['NewCases']]\n",
    "filtered.columns = ['NewCasesHampel']\n",
    "df = df.join(filtered)\n",
    "id_cols = ['CountryName',\n",
    "           'CountryCode',\n",
    "           'RegionName',\n",
    "           'GeoID',\n",
    "           'Date']\n",
    "cases_col = ['NewCases']\n",
    "df = df [id_cols + cases_col + npi_cols + tests_columns]\n",
    "df"
   ]
  },
  {
   "cell_type": "markdown",
   "metadata": {},
   "source": [
    "Let's merge this with OWD data"
   ]
  },
  {
   "cell_type": "code",
   "execution_count": null,
   "metadata": {},
   "outputs": [],
   "source": [
    "owd = pd.read_csv(\"../data_sources/owd_by_country.csv\").drop('Unnamed: 0', axis=1)\n",
    "df = df.merge(owd, on='CountryCode', how='left')\n",
    "df"
   ]
  },
  {
   "cell_type": "markdown",
   "metadata": {},
   "source": [
    "Pack it all in a function."
   ]
  },
  {
   "cell_type": "code",
   "execution_count": null,
   "metadata": {},
   "outputs": [],
   "source": [
    "def preprocess(k=7, threshold=3, merge_owd=True):\n",
    "    # get updated data merged with tests\n",
    "    df = update_OxCGRT_tests()\n",
    "    # Add GeoID\n",
    "    df['GeoID'] = df['CountryName'] + '__' + df['RegionName'].astype(str)\n",
    "    # Add NewCases\n",
    "    df['NewCases'] = df.groupby('GeoID').ConfirmedCases.diff().fillna(0)\n",
    "    # Missing data in NewCases\n",
    "    df.update(df.groupby('GeoID').NewCases.apply(\n",
    "        lambda group: group.interpolate()).fillna(0))\n",
    "    # Missing data in Tests\n",
    "    tests_columns = [c for c in df.columns if c.startswith('tests')]\n",
    "    for column in tests_columns:\n",
    "        df.update(df.groupby('GeoID')[column].apply(\n",
    "        lambda group: group.interpolate()).fillna(0))\n",
    "    # Missing data in NPIs assuming they are the same as previous day\n",
    "    npi_cols = ['C1_School closing',\n",
    "                'C2_Workplace closing',\n",
    "                'C3_Cancel public events',\n",
    "                'C4_Restrictions on gatherings',\n",
    "                'C5_Close public transport',\n",
    "                'C6_Stay at home requirements',\n",
    "                'C7_Restrictions on internal movement',\n",
    "                'C8_International travel controls',\n",
    "                'H1_Public information campaigns',\n",
    "                'H2_Testing policy',\n",
    "                'H3_Contact tracing',\n",
    "                'H6_Facial Coverings']\n",
    "    for npi_col in npi_cols:\n",
    "        df.update(df.groupby('GeoID')[npi_col].ffill().fillna(0))\n",
    "    # Hampel filter (default values)\n",
    "    filtered = df.groupby('CountryCode').apply(lambda group: hampel(group.NewCases, k, threshold))\n",
    "    filtered = filtered.reset_index()[['NewCases']]\n",
    "    filtered.columns = ['NewCasesHampel']\n",
    "    df = df.join(filtered)\n",
    "    id_cols = ['CountryName',\n",
    "               'CountryCode',\n",
    "               'RegionName',\n",
    "               'GeoID',\n",
    "               'Date']\n",
    "    cases_col = ['NewCases']\n",
    "    df = df [id_cols + cases_col + npi_cols + tests_columns]\n",
    "    if merge_owd:\n",
    "        owd = pd.read_csv(\"../data_sources/owd_by_country.csv\").drop('Unnamed: 0', axis=1)\n",
    "        df = df.merge(owd, on='CountryCode', how='left')\n",
    "    return df"
   ]
  },
  {
   "cell_type": "code",
   "execution_count": null,
   "metadata": {},
   "outputs": [],
   "source": [
    "df = preprocess()\n",
    "df"
   ]
  },
  {
   "cell_type": "code",
   "execution_count": null,
   "metadata": {},
   "outputs": [],
   "source": []
  }
 ],
 "metadata": {
  "kernelspec": {
   "display_name": "Python 3",
   "language": "python",
   "name": "python3"
  },
  "language_info": {
   "codemirror_mode": {
    "name": "ipython",
    "version": 3
   },
   "file_extension": ".py",
   "mimetype": "text/x-python",
   "name": "python",
   "nbconvert_exporter": "python",
   "pygments_lexer": "ipython3",
   "version": "3.7.8"
  }
 },
 "nbformat": 4,
 "nbformat_minor": 4
}
