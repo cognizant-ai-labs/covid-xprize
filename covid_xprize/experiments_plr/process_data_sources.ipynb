{
 "cells": [
  {
   "cell_type": "code",
   "execution_count": null,
   "metadata": {},
   "outputs": [],
   "source": [
    "import pickle\n",
    "import numpy as np\n",
    "import pandas as pd\n",
    "from sklearn.linear_model import Lasso\n",
    "from sklearn.model_selection import train_test_split"
   ]
  },
  {
   "cell_type": "markdown",
   "metadata": {},
   "source": [
    "## Merge tests data with oxford database"
   ]
  },
  {
   "cell_type": "code",
   "execution_count": null,
   "metadata": {},
   "outputs": [],
   "source": [
    "covid_tests = pd.read_csv(\"../data_sources/daily-tests-per-thousand-people-smoothed-7-day.csv\", \n",
    "                 parse_dates=['Date'],\n",
    "                 encoding=\"ISO-8859-1\",\n",
    "                 dtype={\"RegionName\": str,\n",
    "                        \"RegionCode\": str},\n",
    "                 error_bad_lines=False)\n",
    "# drop rows with null Code\n",
    "covid_tests = covid_tests[covid_tests.Code.notna()]\n",
    "covid_tests.info()"
   ]
  },
  {
   "cell_type": "code",
   "execution_count": null,
   "metadata": {},
   "outputs": [],
   "source": [
    "oxford = pd.read_csv(\"../data_sources/OxCGRT_latest.csv\", \n",
    "                 parse_dates=['Date'],\n",
    "                 encoding=\"ISO-8859-1\",\n",
    "                 dtype={\"RegionName\": str,\n",
    "                        \"RegionCode\": str},\n",
    "                 error_bad_lines=False)\n",
    "oxford.info()"
   ]
  },
  {
   "cell_type": "markdown",
   "metadata": {},
   "source": [
    "We have to merge on two levels: country code and date, so lets index the dataframes accordingly"
   ]
  },
  {
   "cell_type": "code",
   "execution_count": null,
   "metadata": {},
   "outputs": [],
   "source": [
    "covid_tests = covid_tests.set_index(['Code', 'Date'])\n",
    "covid_tests.info()"
   ]
  },
  {
   "cell_type": "code",
   "execution_count": null,
   "metadata": {},
   "outputs": [],
   "source": [
    "oxford = oxford.set_index(['CountryCode', 'Date'])"
   ]
  },
  {
   "cell_type": "code",
   "execution_count": null,
   "metadata": {},
   "outputs": [],
   "source": [
    "oxford_tests =(oxford\n",
    "               .join(covid_tests.rename_axis(oxford.index.names), how='left')\n",
    "               .drop(['Entity', 'new_tests_per_thousand_7day_smoothed Annotations'], axis=1)\n",
    "               .rename({'new_tests_per_thousand_7day_smoothed': 'covid_tests'})\n",
    "              )\n",
    "oxford_tests"
   ]
  },
  {
   "cell_type": "markdown",
   "metadata": {},
   "source": [
    "Of course this has lots of NaN values in the tests column, but we can find a way to deal with those later when we use it on a predictor. Fpr the time being, lets save it"
   ]
  },
  {
   "cell_type": "code",
   "execution_count": null,
   "metadata": {},
   "outputs": [],
   "source": [
    "oxford_tests.to_csv(\"../data_sources/OxCGRT_latest_with_tests.csv\")"
   ]
  },
  {
   "cell_type": "markdown",
   "metadata": {},
   "source": [
    "Now pack it up in a function "
   ]
  },
  {
   "cell_type": "code",
   "execution_count": null,
   "metadata": {},
   "outputs": [],
   "source": [
    "def add_test_data(oxford_path, tests_path):\n",
    "    covid_tests = pd.read_csv(tests_path, \n",
    "                 parse_dates=['Date'],\n",
    "                 encoding=\"ISO-8859-1\",\n",
    "                 dtype={\"RegionName\": str,\n",
    "                        \"RegionCode\": str},\n",
    "                 error_bad_lines=False)\n",
    "    # drop rows with null Code\n",
    "    covid_tests = covid_tests[covid_tests.Code.notna()]\n",
    "    covid_tests = covid_tests.set_index(['Code', 'Date'])\n",
    "    oxford = pd.read_csv(oxford_path, \n",
    "                 parse_dates=['Date'],\n",
    "                 encoding=\"ISO-8859-1\",\n",
    "                 dtype={\"RegionName\": str,\n",
    "                        \"RegionCode\": str},\n",
    "                 error_bad_lines=False)\n",
    "    oxford = oxford.set_index(['CountryCode', 'Date'])\n",
    "    oxford_tests =(oxford\n",
    "                   .join(covid_tests.rename_axis(oxford.index.names), how='left')\n",
    "                   .drop(['Entity', 'new_tests_per_thousand_7day_smoothed Annotations'], axis=1)\n",
    "                   .rename({'new_tests_per_thousand_7day_smoothed': 'covid_tests'})\n",
    "                  )\n",
    "    return oxford_tests.reset_index()"
   ]
  },
  {
   "cell_type": "code",
   "execution_count": null,
   "metadata": {},
   "outputs": [],
   "source": [
    "oxford_tests = add_test_data(\"../data_sources/OxCGRT_latest.csv\", \"../data_sources/daily-tests-per-thousand-people-smoothed-7-day.csv\")\n",
    "oxford_tests"
   ]
  },
  {
   "cell_type": "code",
   "execution_count": null,
   "metadata": {},
   "outputs": [],
   "source": []
  }
 ],
 "metadata": {
  "kernelspec": {
   "display_name": "Python 3",
   "language": "python",
   "name": "python3"
  },
  "language_info": {
   "codemirror_mode": {
    "name": "ipython",
    "version": 3
   },
   "file_extension": ".py",
   "mimetype": "text/x-python",
   "name": "python",
   "nbconvert_exporter": "python",
   "pygments_lexer": "ipython3",
   "version": "3.7.8"
  }
 },
 "nbformat": 4,
 "nbformat_minor": 4
}
