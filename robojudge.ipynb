{
 "cells": [
  {
   "cell_type": "code",
   "execution_count": null,
   "metadata": {},
   "outputs": [],
   "source": [
    "import pandas as pd\n",
    "import numpy as np"
   ]
  },
  {
   "cell_type": "markdown",
   "metadata": {},
   "source": [
    "# Load data set"
   ]
  },
  {
   "cell_type": "code",
   "execution_count": null,
   "metadata": {},
   "outputs": [],
   "source": [
    "LATEST_DATA_URL = 'https://raw.githubusercontent.com/OxCGRT/covid-policy-tracker/master/data/OxCGRT_latest.csv'"
   ]
  },
  {
   "cell_type": "code",
   "execution_count": null,
   "metadata": {},
   "outputs": [],
   "source": [
    "def load_dataset(url):\n",
    "    latest_df = pd.read_csv(url,\n",
    "                            parse_dates=['Date'],\n",
    "                            encoding=\"ISO-8859-1\",\n",
    "                            dtype={\"RegionName\": str,\n",
    "                                   \"RegionCode\": str},\n",
    "                            error_bad_lines=False)\n",
    "    latest_df[\"RegionName\"] = latest_df[\"RegionName\"].fillna(\"\")\n",
    "    return latest_df"
   ]
  },
  {
   "cell_type": "code",
   "execution_count": null,
   "metadata": {},
   "outputs": [],
   "source": [
    "latest_df = load_dataset(LATEST_DATA_URL)"
   ]
  },
  {
   "cell_type": "code",
   "execution_count": null,
   "metadata": {},
   "outputs": [],
   "source": [
    "latest_df.sample(3)"
   ]
  },
  {
   "cell_type": "markdown",
   "metadata": {},
   "source": [
    "# Get NPIs"
   ]
  },
  {
   "cell_type": "code",
   "execution_count": null,
   "metadata": {},
   "outputs": [],
   "source": [
    "NPI_COLUMNS = ['C1_School closing',\n",
    "               'C2_Workplace closing',\n",
    "               'C3_Cancel public events',\n",
    "               'C4_Restrictions on gatherings',\n",
    "               'C5_Close public transport',\n",
    "               'C6_Stay at home requirements',\n",
    "               'C7_Restrictions on internal movement',\n",
    "               'C8_International travel controls',\n",
    "               'H1_Public information campaigns',\n",
    "               'H2_Testing policy',\n",
    "               'H3_Contact tracing',\n",
    "               'H6_Facial Coverings']"
   ]
  },
  {
   "cell_type": "code",
   "execution_count": null,
   "metadata": {},
   "outputs": [],
   "source": [
    "npis_df = latest_df[[\"CountryName\", \"RegionName\", \"Date\"] + NPI_COLUMNS]"
   ]
  },
  {
   "cell_type": "code",
   "execution_count": null,
   "metadata": {},
   "outputs": [],
   "source": [
    "npis_df.sample(3)"
   ]
  },
  {
   "cell_type": "markdown",
   "metadata": {},
   "source": [
    "# Dates"
   ]
  },
  {
   "cell_type": "code",
   "execution_count": null,
   "metadata": {},
   "outputs": [],
   "source": [
    "start_date_str = \"2020-08-01\"\n",
    "end_date_str = \"2020-08-04\""
   ]
  },
  {
   "cell_type": "code",
   "execution_count": null,
   "metadata": {},
   "outputs": [],
   "source": [
    "start_date = pd.to_datetime(start_date_str, format='%Y-%m-%d')\n",
    "end_date = pd.to_datetime(end_date_str, format='%Y-%m-%d')"
   ]
  },
  {
   "cell_type": "code",
   "execution_count": null,
   "metadata": {},
   "outputs": [],
   "source": [
    "actual_npis_df = npis_df[(npis_df.Date >= start_date) & (npis_df.Date <= end_date)]\n",
    "actual_npis_df.sample(3)"
   ]
  },
  {
   "cell_type": "code",
   "execution_count": null,
   "metadata": {},
   "outputs": [],
   "source": [
    "npis_file_name = start_date.strftime('%Y-%m-%d') + \"_\" + end_date.strftime('%Y-%m-%d') + \"_\" + \"npis_example.csv\"\n",
    "npis_file_name"
   ]
  },
  {
   "cell_type": "code",
   "execution_count": null,
   "metadata": {},
   "outputs": [],
   "source": [
    "# Save to file\n",
    "# actual_npis_df.to_csv(npis_file_name, index=False)"
   ]
  },
  {
   "cell_type": "markdown",
   "metadata": {},
   "source": [
    "# Get actual cases between these dates"
   ]
  },
  {
   "cell_type": "code",
   "execution_count": null,
   "metadata": {},
   "outputs": [],
   "source": [
    "NUM_PREV_DAYS_TO_INCLUDE = 6\n",
    "WINDOW_SIZE = 7"
   ]
  },
  {
   "cell_type": "code",
   "execution_count": null,
   "metadata": {},
   "outputs": [],
   "source": [
    "def get_actual_cases(df, start_date, end_date):\n",
    "    # 1 day earlier to compute the daily diff\n",
    "    start_date_for_diff = start_date - pd.offsets.Day(WINDOW_SIZE)\n",
    "    actual_df = df[[\"CountryName\", \"RegionName\", \"Date\", \"ConfirmedCases\"]]\n",
    "    # Filter out the data set to include all the data needed to compute the diff\n",
    "    actual_df = actual_df[(actual_df.Date >= start_date_for_diff) & (actual_df.Date <= end_date)]\n",
    "    # Add GeoID column that combines CountryName and RegionName for easier manipulation of data\n",
    "    # np.where usage: if A then B else C\n",
    "    actual_df[\"GeoID\"] = np.where(actual_df[\"RegionName\"].isnull(),\n",
    "                                  actual_df[\"CountryName\"],\n",
    "                                  actual_df[\"CountryName\"] + ' / ' + actual_df[\"RegionName\"])\n",
    "    actual_df.sort_values(by=[\"GeoID\",\"Date\"], inplace=True)\n",
    "    # Compute the diff\n",
    "    actual_df[\"ActualDailyNewCases\"] = actual_df.groupby(\"GeoID\")[\"ConfirmedCases\"].diff().fillna(0)\n",
    "    # Compute the 7 day moving average\n",
    "    actual_df[\"ActualDailyNewCases7DMA\"] = actual_df.groupby(\n",
    "        \"GeoID\")['ActualDailyNewCases'].rolling(\n",
    "        WINDOW_SIZE, center=False).mean().reset_index(0, drop=True)\n",
    "    return actual_df"
   ]
  },
  {
   "cell_type": "code",
   "execution_count": null,
   "metadata": {},
   "outputs": [],
   "source": [
    "actual_df = get_actual_cases(latest_df, start_date, end_date)"
   ]
  },
  {
   "cell_type": "code",
   "execution_count": null,
   "metadata": {},
   "outputs": [],
   "source": [
    "actual_df.head(12)"
   ]
  },
  {
   "cell_type": "markdown",
   "metadata": {},
   "source": [
    "# Get historical data for 7 days moving average calculation\n",
    "In order to compute the 7 days moving average, we need to get the historical true new cases for the last 7 days before start date"
   ]
  },
  {
   "cell_type": "code",
   "execution_count": null,
   "metadata": {},
   "outputs": [],
   "source": [
    "ma_df = actual_df[actual_df[\"Date\"] < start_date]\n",
    "ma_df = ma_df[[\"CountryName\", \"RegionName\", \"Date\", \"ActualDailyNewCases\"]]\n",
    "ma_df = ma_df.rename(columns={\"ActualDailyNewCases\": \"PredictedDailyNewCases\"})\n",
    "ma_df.head()"
   ]
  },
  {
   "cell_type": "markdown",
   "metadata": {},
   "source": [
    "# Get predictions from submissions"
   ]
  },
  {
   "cell_type": "code",
   "execution_count": null,
   "metadata": {},
   "outputs": [],
   "source": [
    "def get_predictions_from_file(predictor_name, predictions_file, ma_df):\n",
    "    preds_df = pd.read_csv(predictions_file,\n",
    "                           parse_dates=['Date'],\n",
    "                           encoding=\"ISO-8859-1\",\n",
    "                           error_bad_lines=False)\n",
    "    preds_df[\"RegionName\"] = preds_df[\"RegionName\"].fillna(\"\")\n",
    "    preds_df[\"PredictorName\"] = predictor_name\n",
    "    preds_df[\"Prediction\"] = True\n",
    "    \n",
    "    # Append the true number of cases before start date\n",
    "    ma_df[\"PredictorName\"] = predictor_name\n",
    "    ma_df[\"Prediction\"] = False\n",
    "    preds_df = ma_df.append(preds_df, ignore_index=True)\n",
    "\n",
    "    # Add GeoID column that combines CountryName and RegionName for easier manipulation of data\n",
    "    # np.where usage: if A then B else C\n",
    "    preds_df[\"GeoID\"] = np.where(preds_df[\"RegionName\"].isnull(),\n",
    "                                 preds_df[\"CountryName\"],\n",
    "                                 preds_df[\"CountryName\"] + ' / ' + preds_df[\"RegionName\"])\n",
    "    # Sort\n",
    "#     preds_df.sort_values(by=[\"CountryName\",\"RegionName\", \"Date\"], inplace=True)\n",
    "    preds_df.sort_values(by=[\"GeoID\",\"Date\"], inplace=True)\n",
    "    # Compute the 7 days moving average for PredictedDailyNewCases\n",
    "    preds_df[\"PredictedDailyNewCases7DMA\"] = preds_df.groupby(\n",
    "        \"GeoID\")['PredictedDailyNewCases'].rolling(\n",
    "        WINDOW_SIZE, center=False).mean().reset_index(0, drop=True)\n",
    "\n",
    "    # Put PredictorName first\n",
    "    preds_df = preds_df[[\"PredictorName\"] + [col for col in preds_df.columns if col != \"PredictorName\"]]\n",
    "    return preds_df"
   ]
  },
  {
   "cell_type": "code",
   "execution_count": null,
   "metadata": {},
   "outputs": [],
   "source": [
    "# File used to request the predictions\n",
    "IP_FILE = \"validation/data/2020-09-30_historical_ip.csv\"\n",
    "# Resulting predictions\n",
    "predictions = {\"Linear\": \"examples/predictors/linear/predictions/val_4_days.csv\",\n",
    "               \"LSTM\": \"examples/predictors/lstm/predictions/2020-08-01_2020-08-04.csv\"}"
   ]
  },
  {
   "cell_type": "code",
   "execution_count": null,
   "metadata": {},
   "outputs": [],
   "source": [
    "test_predictor_name = \"Linear\"\n",
    "temp_df = get_predictions_from_file(test_predictor_name, predictions[test_predictor_name], ma_df.copy())\n",
    "temp_df.head(12)"
   ]
  },
  {
   "cell_type": "code",
   "execution_count": null,
   "metadata": {},
   "outputs": [],
   "source": [
    "actual_df.head(8)"
   ]
  },
  {
   "cell_type": "code",
   "execution_count": null,
   "metadata": {},
   "outputs": [],
   "source": [
    "# actual_as_pred_df = actual_df.copy()\n",
    "# actual_as_pred_df[\"PredictorName\"] = \"Ground truth\"\n",
    "# actual_as_pred_df[\"Prediction\"] = False\n",
    "# actual_as_pred_df = actual_as_pred_df.rename(columns={\"ActualDailyNewCases\": \"PredictedDailyNewCases\",\n",
    "#                                                       \"ActualDailyNewCases7DMA\": \"PredictedDailyNewCases7DMA\"})\n",
    "# actual_as_pred_df.head(8)"
   ]
  },
  {
   "cell_type": "code",
   "execution_count": null,
   "metadata": {},
   "outputs": [],
   "source": [
    "from validation.validation import validate_submission\n",
    "\n",
    "ranking_df = pd.DataFrame()\n",
    "for predictor_name, predictions_file in predictions.items():\n",
    "    errors = validate_submission(start_date_str, end_date_str, IP_FILE, predictions_file)\n",
    "    if not errors:\n",
    "        preds_df = get_predictions_from_file(predictor_name, predictions_file, ma_df)\n",
    "        merged_df = actual_df.merge(preds_df, on=['CountryName', 'RegionName', 'Date', 'GeoID'], how='left')\n",
    "        ranking_df = ranking_df.append(merged_df)\n",
    "    else:\n",
    "        print(f\"Predictor {predictor_name} did not submit valid predictions! Please check its errors:\")\n",
    "        print(errors)"
   ]
  },
  {
   "cell_type": "code",
   "execution_count": null,
   "metadata": {},
   "outputs": [],
   "source": [
    "ranking_df['DiffDaily'] = (ranking_df[\"ActualDailyNewCases\"] - ranking_df[\"PredictedDailyNewCases\"]).abs()"
   ]
  },
  {
   "cell_type": "code",
   "execution_count": null,
   "metadata": {},
   "outputs": [],
   "source": [
    "ranking_df['Diff7DMA'] = (ranking_df[\"ActualDailyNewCases7DMA\"] - ranking_df[\"PredictedDailyNewCases7DMA\"]).abs()"
   ]
  },
  {
   "cell_type": "code",
   "execution_count": null,
   "metadata": {},
   "outputs": [],
   "source": [
    "# Compute the cumulative sum of 7DMA errors\n",
    "ranking_df['CumulDiff7DMA'] = ranking_df.groupby([\"GeoID\", \"PredictorName\"])['Diff7DMA'].cumsum()"
   ]
  },
  {
   "cell_type": "code",
   "execution_count": null,
   "metadata": {},
   "outputs": [],
   "source": [
    "# Keep only predictions (either Prediction == True) or on or after start_date\n",
    "ranking_df = ranking_df[ranking_df[\"Date\"] >= start_date]"
   ]
  },
  {
   "cell_type": "code",
   "execution_count": null,
   "metadata": {},
   "outputs": [],
   "source": [
    "# Sort by 7 days moving average diff\n",
    "ranking_df.sort_values(by=[\"CountryName\",\"RegionName\",\"Date\",\"Diff7DMA\"], inplace=True)"
   ]
  },
  {
   "cell_type": "code",
   "execution_count": null,
   "metadata": {},
   "outputs": [],
   "source": [
    "# # Set true dailycases before start_date\n",
    "# ranking_df[\"Prediction\"] = False\n",
    "# ranking_df[\"Prediction\"][ranking_df[\"Date\"] >= start_date] = True"
   ]
  },
  {
   "cell_type": "code",
   "execution_count": null,
   "metadata": {},
   "outputs": [],
   "source": [
    "ranking_df.head(4*2)"
   ]
  },
  {
   "cell_type": "code",
   "execution_count": null,
   "metadata": {},
   "outputs": [],
   "source": [
    "ranking_df[(ranking_df.CountryName == \"United States\") &\n",
    "           (ranking_df.Date == '2020-08-02')]"
   ]
  },
  {
   "cell_type": "code",
   "execution_count": null,
   "metadata": {},
   "outputs": [],
   "source": [
    "# Save to file\n",
    "# ranking_df.to_csv(\"/Users/m_754337/workspace/esp-demo/xprize/tests/fixtures/ranking.csv\", index=False)"
   ]
  },
  {
   "cell_type": "markdown",
   "metadata": {},
   "source": [
    "# Ranking"
   ]
  },
  {
   "cell_type": "markdown",
   "metadata": {},
   "source": [
    "## Global"
   ]
  },
  {
   "cell_type": "code",
   "execution_count": null,
   "metadata": {},
   "outputs": [],
   "source": [
    "ranking_df.groupby('PredictorName').Diff7DMA.sum().sort_values()"
   ]
  },
  {
   "cell_type": "markdown",
   "metadata": {},
   "source": [
    "## Countries"
   ]
  },
  {
   "cell_type": "code",
   "execution_count": null,
   "metadata": {},
   "outputs": [],
   "source": [
    "countries_ranking_df = ranking_df.groupby([\"CountryName\", \"RegionName\", \"PredictorName\"])[[\"CountryName\", \"RegionName\", \"PredictorName\", \"Diff7DMA\"]].sum().sort_values(by=[\"CountryName\", \"RegionName\", \"Diff7DMA\"])\n"
   ]
  },
  {
   "cell_type": "code",
   "execution_count": null,
   "metadata": {},
   "outputs": [],
   "source": [
    "countries_ranking_df.head(12)"
   ]
  },
  {
   "cell_type": "markdown",
   "metadata": {},
   "source": [
    "## Specific country"
   ]
  },
  {
   "cell_type": "code",
   "execution_count": null,
   "metadata": {},
   "outputs": [],
   "source": [
    "cr_df = countries_ranking_df.reset_index()"
   ]
  },
  {
   "cell_type": "code",
   "execution_count": null,
   "metadata": {},
   "outputs": [],
   "source": [
    "cr_df[(cr_df.CountryName == \"Italy\") & (cr_df.RegionName == \"\")]"
   ]
  },
  {
   "cell_type": "code",
   "execution_count": null,
   "metadata": {},
   "outputs": [],
   "source": [
    "ranking_df[ranking_df.CountryName == \"Italy\"]"
   ]
  },
  {
   "cell_type": "markdown",
   "metadata": {},
   "source": [
    "## Specific country (group by)"
   ]
  },
  {
   "cell_type": "code",
   "execution_count": null,
   "metadata": {},
   "outputs": [],
   "source": [
    "ranking_df[(ranking_df.CountryName == \"United States\") & (ranking_df.RegionName == \"\")].groupby([\"PredictorName\"]).Diff7DMA.sum().sort_values()"
   ]
  },
  {
   "cell_type": "markdown",
   "metadata": {},
   "source": [
    "## Specific region"
   ]
  },
  {
   "cell_type": "code",
   "execution_count": null,
   "metadata": {},
   "outputs": [],
   "source": [
    "cr_df[(cr_df.CountryName == \"United States\") & (cr_df.RegionName == \"California\")]"
   ]
  },
  {
   "cell_type": "markdown",
   "metadata": {},
   "source": [
    "## Continent"
   ]
  },
  {
   "cell_type": "code",
   "execution_count": null,
   "metadata": {},
   "outputs": [],
   "source": [
    "NORTH_AMERICA = [\"Canada\", \"United States\", \"Mexico\"]"
   ]
  },
  {
   "cell_type": "code",
   "execution_count": null,
   "metadata": {},
   "outputs": [],
   "source": [
    "cr_df[(cr_df.CountryName.isin(NORTH_AMERICA)) & (cr_df.RegionName == \"\")].groupby('PredictorName').Diff7DMA.sum().sort_values().reset_index()"
   ]
  },
  {
   "cell_type": "code",
   "execution_count": null,
   "metadata": {},
   "outputs": [],
   "source": [
    "cr_df[(cr_df.CountryName.isin(NORTH_AMERICA)) & (cr_df.RegionName == \"\")]"
   ]
  },
  {
   "cell_type": "markdown",
   "metadata": {},
   "source": [
    "# Plots"
   ]
  },
  {
   "cell_type": "code",
   "execution_count": null,
   "metadata": {},
   "outputs": [],
   "source": [
    "ALL_GEO = \"Overall\"\n",
    "DEFAULT_GEO = ALL_GEO"
   ]
  },
  {
   "cell_type": "markdown",
   "metadata": {},
   "source": [
    "## Prediction vs actual"
   ]
  },
  {
   "cell_type": "code",
   "execution_count": null,
   "metadata": {},
   "outputs": [],
   "source": [
    "predictor_names = list(ranking_df.PredictorName.dropna().unique())\n",
    "geoid_names = list(ranking_df.GeoID.unique())"
   ]
  },
  {
   "cell_type": "code",
   "execution_count": null,
   "metadata": {},
   "outputs": [],
   "source": [
    "# country_df = ranking_df[ranking_df.CountryName == \"Italy\"]\n",
    "# country_df[country_df[\"PredictorName\"] == 'Predictor #27']"
   ]
  },
  {
   "cell_type": "markdown",
   "metadata": {},
   "source": [
    "## Filter by country"
   ]
  },
  {
   "cell_type": "code",
   "execution_count": null,
   "metadata": {},
   "outputs": [],
   "source": [
    "# pred_country_df = ranking_df[(ranking_df.CountryName == \"India\") &\n",
    "#                         (ranking_df.PredictorName == \"Predictor #27\")]\n",
    "# pred_country_df"
   ]
  },
  {
   "cell_type": "code",
   "execution_count": null,
   "metadata": {},
   "outputs": [],
   "source": [
    "all_df = ranking_df.groupby([\"PredictorName\", \"Date\"])[[\"GeoID\", \"PredictorName\", \"PredictedDailyNewCases7DMA\"]].sum(). \\\n",
    "    sort_values(by=[\"PredictorName\", \"Date\"]).reset_index()\n",
    "all_df"
   ]
  },
  {
   "cell_type": "code",
   "execution_count": null,
   "metadata": {},
   "outputs": [],
   "source": [
    "import plotly.graph_objects as go\n",
    "\n",
    "fig = go.Figure(layout=dict(title=dict(text=f\"{DEFAULT_GEO} Daily New Cases 7-day Average \",\n",
    "                                       y=0.9,\n",
    "                                       x=0.5,\n",
    "                                       xanchor='center',\n",
    "                                       yanchor='top'\n",
    "                                       ),\n",
    "                             plot_bgcolor='#f2f2f2',\n",
    "                             xaxis_title=\"Date\",\n",
    "                             yaxis_title=\"Daily new cases 7-day average\"\n",
    "                             ))\n",
    "\n",
    "# Keep track of trace visibility by geo ID name\n",
    "geoid_plot_names = []\n",
    "\n",
    "all_df = ranking_df.groupby([\"PredictorName\", \"Date\"])[[\"GeoID\", \"PredictorName\", \"PredictedDailyNewCases7DMA\"]].sum(). \\\n",
    "    sort_values(by=[\"PredictorName\", \"Date\"]).reset_index()\n",
    "\n",
    "# Add 1 trace per predictor, for all geos\n",
    "for predictor_name in predictor_names:\n",
    "    all_geo_df = all_df[all_df.PredictorName == predictor_name]\n",
    "    fig.add_trace(go.Scatter(x=all_geo_df.Date,\n",
    "                             y=all_geo_df.PredictedDailyNewCases7DMA,\n",
    "                             name=predictor_name,\n",
    "                             visible=(ALL_GEO == DEFAULT_GEO))\n",
    "                 )\n",
    "    geoid_plot_names.append(ALL_GEO)\n",
    "\n",
    "# Add 1 trace per predictor, per geo id\n",
    "for predictor_name in predictor_names:\n",
    "    for geoid_name in geoid_names:\n",
    "        pred_geoid_df = ranking_df[(ranking_df.GeoID == geoid_name) &\n",
    "                                   (ranking_df.PredictorName == predictor_name)]\n",
    "        fig.add_trace(go.Scatter(x=pred_geoid_df.Date,\n",
    "                                 y=pred_geoid_df.PredictedDailyNewCases7DMA,\n",
    "                                 name=predictor_name,\n",
    "                                 visible=(geoid_name == DEFAULT_GEO))\n",
    "                     )\n",
    "        geoid_plot_names.append(geoid_name)\n",
    "\n",
    "# For each geo\n",
    "# Add 1 trace for the true number of cases\n",
    "for geoid_name in geoid_names:\n",
    "    geo_actual_df = actual_df[(actual_df.GeoID == geoid_name) &\n",
    "                                  (actual_df.Date >= start_date)]\n",
    "    fig.add_trace(go.Scatter(x=geo_actual_df.Date,\n",
    "                             y=geo_actual_df.ActualDailyNewCases7DMA,\n",
    "                             name=\"Ground Truth\",\n",
    "                             visible= (geoid_name == DEFAULT_GEO),\n",
    "                             line=dict(color='orange', width=4, dash='dash'))\n",
    "                  )\n",
    "    geoid_plot_names.append(geoid_name)\n",
    "    \n",
    "# Add 1 trace for the overall ground truth\n",
    "overall_actual_df = actual_df[actual_df.Date >= start_date].groupby([\"Date\"])[[\"GeoID\", \"ActualDailyNewCases7DMA\"]].sum(). \\\n",
    "    sort_values(by=[\"Date\"]).reset_index()\n",
    "fig.add_trace(go.Scatter(x=overall_actual_df.Date,\n",
    "                         y=overall_actual_df.ActualDailyNewCases7DMA,\n",
    "                         name=\"Ground Truth\",\n",
    "                         visible= (ALL_GEO == DEFAULT_GEO),\n",
    "                         line=dict(color='orange', width=4, dash='dash'))\n",
    "                  )\n",
    "geoid_plot_names.append(geoid_name)\n",
    "\n",
    "# Format x axis\n",
    "fig.update_xaxes(\n",
    "dtick=\"D1\",  # Means 1 day\n",
    "tickformat=\"%d\\n%b\")\n",
    "\n",
    "# Filter\n",
    "buttons=[]\n",
    "for geoid_name in ([ALL_GEO] + geoid_names):\n",
    "    buttons.append(dict(method='update',\n",
    "                        label=geoid_name,\n",
    "                        args = [{'visible': [geoid_name==r for r in geoid_plot_names]},\n",
    "                                {'title': f\"{geoid_name} Daily New Cases 7-day Average \"}]))\n",
    "fig.update_layout(showlegend=True,\n",
    "                  updatemenus=[{\"buttons\": buttons,\n",
    "                                \"direction\": \"down\",\n",
    "                                \"active\": ([ALL_GEO] + geoid_names).index(DEFAULT_GEO),\n",
    "                                \"showactive\": True,\n",
    "                                \"x\": 0.1,\n",
    "                                \"y\": 1.15}])\n",
    "\n",
    "fig.show()"
   ]
  },
  {
   "cell_type": "markdown",
   "metadata": {},
   "source": [
    "## Rankings: by cumulative 7DMA error"
   ]
  },
  {
   "cell_type": "code",
   "execution_count": null,
   "metadata": {
    "scrolled": false
   },
   "outputs": [],
   "source": [
    "ranking_fig = go.Figure(layout=dict(title=dict(text=f'{DEFAULT_GEO} submission rankings',\n",
    "                                               y=0.9,\n",
    "                                               x=0.5,\n",
    "                                               xanchor='center',\n",
    "                                               yanchor='top'\n",
    "                                               ),\n",
    "                                    plot_bgcolor='#f2f2f2',\n",
    "                                    xaxis_title=\"Date\",\n",
    "                                    yaxis_title=\"Cumulative 7DMA error\"\n",
    "                                    ))\n",
    "\n",
    "# Keep track of trace visibility by geo name\n",
    "ranking_geoid_plot_names = []\n",
    "\n",
    "all_df = ranking_df.groupby([\"PredictorName\", \"Date\"])[[\"GeoID\", \"PredictorName\", \"CumulDiff7DMA\"]].sum(). \\\n",
    "    sort_values(by=[\"PredictorName\", \"Date\"]).reset_index()\n",
    "\n",
    "# Add 1 trace per predictor, for all geos\n",
    "for predictor_name in predictor_names:\n",
    "    ranking_geoid_df = all_df[all_df.PredictorName == predictor_name]\n",
    "    ranking_fig.add_trace(go.Scatter(x=ranking_geoid_df.Date,\n",
    "                             y=ranking_geoid_df.CumulDiff7DMA,\n",
    "                             name=predictor_name,\n",
    "                             visible=(ALL_GEO == DEFAULT_GEO))\n",
    "                 )\n",
    "    ranking_geoid_plot_names.append(ALL_GEO)\n",
    "\n",
    "\n",
    "# Add 1 trace per predictor, per country\n",
    "for predictor_name in predictor_names:\n",
    "    for geoid_name in geoid_names:\n",
    "        ranking_geoid_df = ranking_df[(ranking_df.GeoID == geoid_name) &\n",
    "                                        (ranking_df.PredictorName == predictor_name)]\n",
    "        ranking_fig.add_trace(go.Scatter(x=ranking_geoid_df.Date,\n",
    "                                 y=ranking_geoid_df.CumulDiff7DMA,\n",
    "                                 name=predictor_name,\n",
    "                                 visible= (geoid_name == DEFAULT_GEO))\n",
    "                     )\n",
    "        ranking_geoid_plot_names.append(geoid_name)\n",
    "\n",
    "# Format x axis\n",
    "ranking_fig.update_xaxes(\n",
    "dtick=\"D1\",  # Means 1 day\n",
    "tickformat=\"%d\\n%b\")\n",
    "\n",
    "# Filter\n",
    "buttons=[]\n",
    "for geoid_name in ([ALL_GEO] + geoid_names):\n",
    "    buttons.append(dict(method='update',\n",
    "                        label=geoid_name,\n",
    "                        args = [{'visible': [geoid_name==r for r in ranking_geoid_plot_names]},\n",
    "                                {'title': f'{geoid_name} submission rankings'}]))\n",
    "ranking_fig.update_layout(showlegend=True,\n",
    "                          updatemenus=[{\"buttons\": buttons,\n",
    "                                        \"direction\": \"down\",\n",
    "                                        \"active\": ([ALL_GEO] + geoid_names).index(DEFAULT_GEO),\n",
    "                                        \"showactive\": True,\n",
    "                                        \"x\": 0.1,\n",
    "                                        \"y\": 1.15}])\n",
    "\n",
    "ranking_fig.show()"
   ]
  },
  {
   "cell_type": "code",
   "execution_count": null,
   "metadata": {},
   "outputs": [],
   "source": [
    "# all_df = ranking_df.groupby([\"PredictorName\", \"Date\"])[[\"CountryName\", \"RegionName\", \"PredictorName\", \"CumulDiff7DMA\"]].sum(). \\\n",
    "#     sort_values(by=[\"PredictorName\", \"Date\"]).reset_index()\n",
    "# all_df\n"
   ]
  },
  {
   "cell_type": "code",
   "execution_count": null,
   "metadata": {},
   "outputs": [],
   "source": []
  }
 ],
 "metadata": {
  "kernelspec": {
   "display_name": "Python 3",
   "language": "python",
   "name": "python3"
  },
  "language_info": {
   "codemirror_mode": {
    "name": "ipython",
    "version": 3
   },
   "file_extension": ".py",
   "mimetype": "text/x-python",
   "name": "python",
   "nbconvert_exporter": "python",
   "pygments_lexer": "ipython3",
   "version": "3.7.2"
  },
  "pycharm": {
   "stem_cell": {
    "cell_type": "raw",
    "metadata": {
     "collapsed": false
    },
    "source": [
     "# Copyright 2020 (c) Cognizant Digital Business, Evolutionary AI. All rights reserved. Issued under the Apache 2.0 License.#%%\n",
     "\n",
     "import pandas as pd\n",
     "import numpy as np\n"
    ]
   }
  }
 },
 "nbformat": 4,
 "nbformat_minor": 4
}
